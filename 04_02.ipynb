{
 "cells": [
  {
   "cell_type": "code",
   "execution_count": 34,
   "metadata": {},
   "outputs": [],
   "source": [
    "import numpy\n",
    "from matplotlib import pyplot\n",
    "%matplotlib inline"
   ]
  },
  {
   "cell_type": "code",
   "execution_count": 35,
   "metadata": {},
   "outputs": [],
   "source": [
    "Lx, Ly, nx, ny, alpha= 0.1, 0.1, 21, 21, 1e-4\n",
    "dx= Lx/ (nx-1)\n",
    "dy= Ly/ (ny-1)"
   ]
  },
  {
   "cell_type": "code",
   "execution_count": 36,
   "metadata": {},
   "outputs": [],
   "source": [
    "x= numpy.linspace (0.0, Lx, num=nx)\n",
    "y= numpy.linspace (0.0, Ly, num=ny)\n",
    "\n",
    "#Initial Conditions\n",
    "T0= 20.0 * numpy.ones((ny,nx))\n",
    "T0[0,:]= 100.0 #Dirichlet BC\n",
    "\n",
    "T0[:,0]= 100.0 #Dirichlet BC"
   ]
  },
  {
   "cell_type": "code",
   "execution_count": 37,
   "metadata": {},
   "outputs": [],
   "source": [
    "def ftcs (T0, nt, dt, dx, dy, alpha):\n",
    "    T = T0.copy()\n",
    "    sigma_x= alpha * dt/ dx**2\n",
    "    sigma_y= alpha * dt/ dy**2\n",
    "    I= int(nx/2)\n",
    "    J= int (ny/2)\n",
    "    for n in range (nt):\n",
    "        for i in range (1, ny-1):\n",
    "            for j in range (1, nx-1):\n",
    "                T[j, i]= (T[j, i]+ sigma_x* (T[j, i-1] - 2* T[j, i] + T[j, i+1]) + sigma_y* (T[j-1, i] - 2* T[j, i] + T[j+1, i]))\n",
    "        \n",
    "        T[0, :] = 100.0 #Bottom\n",
    "        T[:, 0] = 100.0 #Left\n",
    "        T[-1, :] = T[-2, :] # Top \n",
    "        T[:, -1] = T [ :, -2] # Right\n",
    "        if T[J,I] >=70:\n",
    "            break\n",
    "    print (\"Time Step {}; temperature at center is {} C\". format (n, T[J,I]))        \n",
    "    return T"
   ]
  },
  {
   "cell_type": "code",
   "execution_count": 38,
   "metadata": {},
   "outputs": [],
   "source": [
    "sigma = 0.5\n",
    "dt= sigma / (alpha* (1/dx**2 + 1/dy**2))\n",
    "nt = 500"
   ]
  },
  {
   "cell_type": "code",
   "execution_count": 39,
   "metadata": {},
   "outputs": [
    {
     "name": "stdout",
     "output_type": "stream",
     "text": [
      "Time Step 127; temperature at center is 70.12723235676353 C\n"
     ]
    }
   ],
   "source": [
    "T= ftcs (T0, nt, dt, dx ,dy, alpha)"
   ]
  },
  {
   "cell_type": "code",
   "execution_count": 47,
   "metadata": {},
   "outputs": [
    {
     "data": {
      "image/png": "[encoded data removed]",
      "text/plain": [
       "<Figure size 576x360 with 2 Axes>"
      ]
     },
     "metadata": {},
     "output_type": "display_data"
    }
   ],
   "source": [
    "pyplot.figure (figsize=(8.0, 5.0))\n",
    "pyplot.xlabel ('x[m]')\n",
    "pyplot.ylabel ('y[m]')\n",
    "contf= pyplot.contourf (x, y, T, levels= numpy.linspace(20.0, 100.0, num= 51))\n",
    "cbar= pyplot.colorbar (contf)\n",
    "cbar.set_label('Temperature [C]')"
   ]
  },
  {
   "cell_type": "code",
   "execution_count": null,
   "metadata": {},
   "outputs": [],
   "source": []
  }
 ],
 "metadata": {
  "kernelspec": {
   "display_name": "Python 3",
   "language": "python",
   "name": "python3"
  },
  "language_info": {
   "codemirror_mode": {
    "name": "ipython",
    "version": 3
   },
   "file_extension": ".py",
   "mimetype": "text/x-python",
   "name": "python",
   "nbconvert_exporter": "python",
   "pygments_lexer": "ipython3",
   "version": "3.6.2"
  }
 },
 "nbformat": 4,
 "nbformat_minor": 2
}
