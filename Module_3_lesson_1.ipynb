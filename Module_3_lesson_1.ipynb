{
 "cells": [
  {
   "cell_type": "code",
   "execution_count": 20,
   "metadata": {
    "collapsed": true
   },
   "outputs": [],
   "source": [
    "import numpy\n",
    "from matplotlib import pyplot\n",
    "%matplotlib inline"
   ]
  },
  {
   "cell_type": "code",
   "execution_count": 21,
   "metadata": {
    "collapsed": true
   },
   "outputs": [],
   "source": [
    "def rho_green_light (x,rho_light):\n",
    "    rho = numpy.zeros_like (x)\n",
    "    mask = numpy.where(x<2.0)\n",
    "    rho[mask] = rho_light * x[mask] / 2.0\n",
    "    return rho"
   ]
  },
  {
   "cell_type": "code",
   "execution_count": 22,
   "metadata": {
    "collapsed": false
   },
   "outputs": [],
   "source": [
    "# Set parameters.\n",
    "nx = 81  # number of locations on the road\n",
    "L = 4.0  # length of the road\n",
    "dx = L / (nx - 1)  # distance between two consecutive locations\n",
    "nt = 30  # number of time step to compute\n",
    "u_max = 1.0  # maximum speed allowed on the road\n",
    "rho_max = 10.0  # maximum car density allowed on the road\n",
    "rho_light = 10.0  # car density at the stoplight\n",
    "\n",
    "# Discretize the road.\n",
    "x = numpy.linspace(0.0, L, num=nx)\n",
    "\n",
    "# Compute the initial traffic density.\n",
    "rho0 = rho_green_light(x, rho_light)"
   ]
  },
  {
   "cell_type": "code",
   "execution_count": 23,
   "metadata": {
    "collapsed": true
   },
   "outputs": [],
   "source": [
    "def flux (rho, u_max, rho_max):\n",
    "    F= rho * u_max * (1.0 - rho/ rho_max)\n",
    "    return F"
   ]
  },
  {
   "cell_type": "code",
   "execution_count": 24,
   "metadata": {
    "collapsed": true
   },
   "outputs": [],
   "source": [
    "def ftbs (rho0, nt, dt, dx, bc_value, *args):\n",
    "    rho_hist= [rho0.copy()]\n",
    "    rho = rho0.copy()\n",
    "    for i in range (0,nt):\n",
    "        F=flux (rho, *args)\n",
    "        rho [1:]=rho[1:]-dt/dx*(F[1:]-F[:-1])\n",
    "        rho[0]= bc_value\n",
    "        rho_hist.append(rho.copy())\n",
    "    return rho_hist"
   ]
  },
  {
   "cell_type": "code",
   "execution_count": 25,
   "metadata": {
    "collapsed": true
   },
   "outputs": [],
   "source": [
    "sigma = 1.0\n",
    "dt = sigma * dx / u_max\n",
    "rho_hist = ftbs(rho0, nt, dt, dx, rho0[0], u_max, rho_max)"
   ]
  },
  {
   "cell_type": "code",
   "execution_count": 28,
   "metadata": {
    "collapsed": false
   },
   "outputs": [],
   "source": [
    "from matplotlib import animation\n",
    "from IPython.display import HTML, display\n",
    "import ipywidgets"
   ]
  },
  {
   "cell_type": "code",
   "execution_count": 29,
   "metadata": {
    "collapsed": false,
    "scrolled": true
   },
   "outputs": [
    {
     "data": {
      "image/png": "[encoded data removed]",
      "text/plain": [
       "<matplotlib.figure.Figure at 0x7ffb68146d68>"
      ]
     },
     "metadata": {},
     "output_type": "display_data"
    }
   ],
   "source": [
    "# create a function to plot your solution\n",
    "def plot_density(n, rho_hist):\n",
    "    pyplot.figure(figsize=(8.0,4.0))\n",
    "    pyplot.xlabel('Distance [km]')\n",
    "    pyplot.ylabel('Density [cars / km]')\n",
    "    pyplot.grid()\n",
    "    pyplot.plot(x, rho_hist[0], label='Initial')\n",
    "    pyplot.plot(x, rho_hist[n], label='Time step {}'.format(n))\n",
    "    pyplot.ylim(rho_hist[0].min() - 1.0, rho_hist[0].max() + 1.0)\n",
    "    pyplot.legend()\n",
    "\n",
    "# create a ipywidgets slider for the time levels\n",
    "nt_slider = ipywidgets.IntSlider(value=0, min=0, max=nt, step=1,\n",
    "                                description='time step')\n",
    "\n",
    "# create the ipywidgets interactive figure\n",
    "w = ipywidgets.interactive(plot_density,\n",
    "                              n=nt_slider,\n",
    "                              rho_hist=ipywidgets.fixed(rho_hist))\n",
    "\n",
    "# display the interactive figure\n",
    "display(w)"
   ]
  },
  {
   "cell_type": "code",
   "execution_count": 30,
   "metadata": {
    "collapsed": true
   },
   "outputs": [],
   "source": [
    "# Modify some parameters.\n",
    "nt = 40  # number of time step to compute\n",
    "rho_light = 5.0  # car density at the stoplight\n",
    "\n",
    "# Compute the initial traffic density.\n",
    "rho0 = rho_green_light(x, rho_light)"
   ]
  },
  {
   "cell_type": "code",
   "execution_count": 31,
   "metadata": {
    "collapsed": true
   },
   "outputs": [],
   "source": [
    "rho_hist = ftbs(rho0, nt, dt, dx, rho0[0], u_max, rho_max)"
   ]
  },
  {
   "cell_type": "code",
   "execution_count": 32,
   "metadata": {
    "collapsed": false
   },
   "outputs": [
    {
     "data": {
      "image/png": "[encoded data removed]",
      "text/plain": [
       "<matplotlib.figure.Figure at 0x7ffb680b5d30>"
      ]
     },
     "metadata": {},
     "output_type": "display_data"
    }
   ],
   "source": [
    "# create a function to plot your solution\n",
    "def plot_density(n, rho_hist):\n",
    "    pyplot.figure(figsize=(8.0,4.0))\n",
    "    pyplot.xlabel('Distance [km]')\n",
    "    pyplot.ylabel('Density [cars / km]')\n",
    "    pyplot.grid()\n",
    "    pyplot.plot(x, rho_hist[0], label='Initial')\n",
    "    pyplot.plot(x, rho_hist[n], label='Time step {}'.format(n))\n",
    "    pyplot.ylim(rho_hist[0].min() - 1.0, rho_hist[0].max() + 1.0)\n",
    "    pyplot.legend()\n",
    "\n",
    "# create a ipywidgets slider for the time levels\n",
    "nt_slider = ipywidgets.IntSlider(value=0, min=0, max=nt, step=1,\n",
    "                                description='time step')\n",
    "\n",
    "# create the ipywidgets interactive figure\n",
    "w = ipywidgets.interactive(plot_density,\n",
    "                              n=nt_slider,\n",
    "                              rho_hist=ipywidgets.fixed(rho_hist))\n",
    "\n",
    "# display the interactive figure\n",
    "display(w)"
   ]
  },
  {
   "cell_type": "code",
   "execution_count": 33,
   "metadata": {
    "collapsed": false
   },
   "outputs": [
    {
     "data": {
      "image/png": "[encoded data removed]",
      "text/plain": [
       "<matplotlib.figure.Figure at 0x7ffb68bc04e0>"
      ]
     },
     "metadata": {},
     "output_type": "display_data"
    }
   ],
   "source": [
    "# Modify some parameters.\n",
    "nt = 40  # number of time step to compute\n",
    "u_max = 1.1  # car density at the stoplight\n",
    "\n",
    "# Compute the initial traffic density.\n",
    "rho0 = rho_green_light(x, rho_light)\n",
    "\n",
    "# Compute the traffic density at all time steps.\n",
    "rho_hist = ftbs(rho0, nt, dt, dx, rho0[0], u_max, rho_max)\n",
    "# create a function to plot your solution\n",
    "def plot_density(n, rho_hist):\n",
    "    pyplot.figure(figsize=(8.0,4.0))\n",
    "    pyplot.xlabel('Distance [km]')\n",
    "    pyplot.ylabel('Density [cars / km]')\n",
    "    pyplot.grid()\n",
    "    pyplot.plot(x, rho_hist[0], label='Initial')\n",
    "    pyplot.plot(x, rho_hist[n], label='Time step {}'.format(n))\n",
    "    pyplot.ylim(rho_hist[0].min() - 1.0, rho_hist[0].max() + 1.0)\n",
    "    pyplot.legend()\n",
    "\n",
    "# create a ipywidgets slider for the time levels\n",
    "nt_slider = ipywidgets.IntSlider(value=0, min=0, max=nt, step=1,\n",
    "                                description='time step')\n",
    "\n",
    "# create the ipywidgets interactive figure\n",
    "w = ipywidgets.interactive(plot_density,\n",
    "                              n=nt_slider,\n",
    "                              rho_hist=ipywidgets.fixed(rho_hist))\n",
    "\n",
    "# display the interactive figure\n",
    "display(w)"
   ]
  },
  {
   "cell_type": "code",
   "execution_count": null,
   "metadata": {
    "collapsed": true
   },
   "outputs": [],
   "source": []
  }
 ],
 "metadata": {
  "anaconda-cloud": {},
  "kernelspec": {
   "display_name": "Python [Root]",
   "language": "python",
   "name": "Python [Root]"
  },
  "language_info": {
   "codemirror_mode": {
    "name": "ipython",
    "version": 3
   },
   "file_extension": ".py",
   "mimetype": "text/x-python",
   "name": "python",
   "nbconvert_exporter": "python",
   "pygments_lexer": "ipython3",
   "version": "3.5.2"
  }
 },
 "nbformat": 4,
 "nbformat_minor": 0
}
