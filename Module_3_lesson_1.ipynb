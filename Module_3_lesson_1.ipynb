{
 "cells": [
  {
   "cell_type": "code",
   "execution_count": 1,
   "metadata": {},
   "outputs": [],
   "source": [
    "import numpy\n",
    "from matplotlib import pyplot\n",
    "%matplotlib inline"
   ]
  },
  {
   "cell_type": "code",
   "execution_count": 2,
   "metadata": {},
   "outputs": [],
   "source": [
    "def rho_green_light (x,rho_light):\n",
    "    rho = numpy.zeros_like (x)\n",
    "    mask = numpy.where(x<2.0)\n",
    "    rho[mask] = rho_light * x[mask] / 2.0\n",
    "    return rho"
   ]
  },
  {
   "cell_type": "code",
   "execution_count": 3,
   "metadata": {},
   "outputs": [],
   "source": [
    "# Set parameters.\n",
    "nx = 81  # number of locations on the road\n",
    "L = 4.0  # length of the road\n",
    "dx = L / (nx - 1)  # distance between two consecutive locations\n",
    "nt = 30  # number of time step to compute\n",
    "u_max = 1.0  # maximum speed allowed on the road\n",
    "rho_max = 10.0  # maximum car density allowed on the road\n",
    "rho_light = 10.0  # car density at the stoplight\n",
    "\n",
    "# Discretize the road.\n",
    "x = numpy.linspace(0.0, L, num=nx)\n",
    "\n",
    "# Compute the initial traffic density.\n",
    "rho0 = rho_green_light(x, rho_light)"
   ]
  },
  {
   "cell_type": "code",
   "execution_count": 4,
   "metadata": {},
   "outputs": [],
   "source": [
    "def flux (rho, u_max, rho_max):\n",
    "    F= rho * u_max * (1.0 - rho/ rho_max)\n",
    "    return F"
   ]
  },
  {
   "cell_type": "code",
   "execution_count": 5,
   "metadata": {},
   "outputs": [],
   "source": [
    "def ftbs (rho0, nt, dt, dx, bc_value, *args):\n",
    "    rho_hist= [rho0.copy()]\n",
    "    rho = rho0.copy()\n",
    "    for i in range (0,nt):\n",
    "        F=flux (rho, *args)\n",
    "        rho [1:]=rho[1:]-dt/dx*(F[1:]-F[:-1])\n",
    "        rho[0]= bc_value\n",
    "        rho_hist.append(rho.copy())\n",
    "    return rho_hist"
   ]
  },
  {
   "cell_type": "code",
   "execution_count": 6,
   "metadata": {},
   "outputs": [],
   "source": [
    "sigma = 1.0\n",
    "dt = sigma * dx / u_max\n",
    "rho_hist = ftbs(rho0, nt, dt, dx, rho0[0], u_max, rho_max)"
   ]
  },
  {
   "cell_type": "code",
   "execution_count": 7,
   "metadata": {},
   "outputs": [],
   "source": [
    "from matplotlib import animation\n",
    "from IPython.display import HTML, display\n",
    "import ipywidgets"
   ]
  },
  {
   "cell_type": "code",
   "execution_count": 8,
   "metadata": {},
   "outputs": [
    {
     "data": {
      "application/vnd.jupyter.widget-view+json": {
       "model_id": "25d9685d7c3e4f23ba2b72a762c0da16",
       "version_major": 2,
       "version_minor": 0
      },
      "text/plain": [
       "interactive(children=(IntSlider(value=0, description='time step', max=30), Output()), _dom_classes=('widget-in…"
      ]
     },
     "metadata": {},
     "output_type": "display_data"
    }
   ],
   "source": [
    "# create a function to plot your solution\n",
    "def plot_density(n, rho_hist):\n",
    "    pyplot.figure(figsize=(8.0,4.0))\n",
    "    pyplot.xlabel('Distance [km]')\n",
    "    pyplot.ylabel('Density [cars / km]')\n",
    "    pyplot.grid()\n",
    "    pyplot.plot(x, rho_hist[0], label='Initial')\n",
    "    pyplot.plot(x, rho_hist[n], label='Time step {}'.format(n))\n",
    "    pyplot.ylim(rho_hist[0].min() - 1.0, rho_hist[0].max() + 1.0)\n",
    "    pyplot.legend()\n",
    "\n",
    "# create a ipywidgets slider for the time levels\n",
    "nt_slider = ipywidgets.IntSlider(value=0, min=0, max=nt, step=1,\n",
    "                                description='time step')\n",
    "\n",
    "# create the ipywidgets interactive figure\n",
    "w = ipywidgets.interactive(plot_density,\n",
    "                              n=nt_slider,\n",
    "                              rho_hist=ipywidgets.fixed(rho_hist))\n",
    "\n",
    "# display the interactive figure\n",
    "display(w)"
   ]
  },
  {
   "cell_type": "code",
   "execution_count": 9,
   "metadata": {},
   "outputs": [],
   "source": [
    "# Modify some parameters.\n",
    "nt = 40  # number of time step to compute\n",
    "rho_light = 5.0  # car density at the stoplight\n",
    "\n",
    "# Compute the initial traffic density.\n",
    "rho0 = rho_green_light(x, rho_light)"
   ]
  },
  {
   "cell_type": "code",
   "execution_count": 10,
   "metadata": {},
   "outputs": [],
   "source": [
    "ho_hist = ftbs(rho0, nt, dt, dx, rho0[0], u_max, rho_max)"
   ]
  },
  {
   "cell_type": "code",
   "execution_count": 11,
   "metadata": {},
   "outputs": [
    {
     "data": {
      "application/vnd.jupyter.widget-view+json": {
       "model_id": "54b5d1516af84c9f913cdebb258b0462",
       "version_major": 2,
       "version_minor": 0
      },
      "text/plain": [
       "interactive(children=(IntSlider(value=0, description='time step', max=40), Output()), _dom_classes=('widget-in…"
      ]
     },
     "metadata": {},
     "output_type": "display_data"
    }
   ],
   "source": [
    "# create a function to plot your solution\n",
    "def plot_density(n, rho_hist):\n",
    "    pyplot.figure(figsize=(8.0,4.0))\n",
    "    pyplot.xlabel('Distance [km]')\n",
    "    pyplot.ylabel('Density [cars / km]')\n",
    "    pyplot.grid()\n",
    "    pyplot.plot(x, rho_hist[0], label='Initial')\n",
    "    pyplot.plot(x, rho_hist[n], label='Time step {}'.format(n))\n",
    "    pyplot.ylim(rho_hist[0].min() - 1.0, rho_hist[0].max() + 1.0)\n",
    "    pyplot.legend()\n",
    "\n",
    "# create a ipywidgets slider for the time levels\n",
    "nt_slider = ipywidgets.IntSlider(value=0, min=0, max=nt, step=1,\n",
    "                                description='time step')\n",
    "\n",
    "# create the ipywidgets interactive figure\n",
    "w = ipywidgets.interactive(plot_density,\n",
    "                              n=nt_slider,\n",
    "                              rho_hist=ipywidgets.fixed(rho_hist))\n",
    "\n",
    "# display the interactive figure\n",
    "display(w)"
   ]
  },
  {
   "cell_type": "code",
   "execution_count": 12,
   "metadata": {},
   "outputs": [
    {
     "data": {
      "application/vnd.jupyter.widget-view+json": {
       "model_id": "0508483674cc460c9f8b9bda5dc1ce0a",
       "version_major": 2,
       "version_minor": 0
      },
      "text/plain": [
       "interactive(children=(IntSlider(value=0, description='time step', max=40), Output()), _dom_classes=('widget-in…"
      ]
     },
     "metadata": {},
     "output_type": "display_data"
    }
   ],
   "source": [
    "# Modify some parameters.\n",
    "nt = 40  # number of time step to compute\n",
    "u_max = 1.1  # car density at the stoplight\n",
    "\n",
    "# Compute the initial traffic density.\n",
    "rho0 = rho_green_light(x, rho_light)\n",
    "\n",
    "# Compute the traffic density at all time steps.\n",
    "rho_hist = ftbs(rho0, nt, dt, dx, rho0[0], u_max, rho_max)\n",
    "# create a function to plot your solution\n",
    "def plot_density(n, rho_hist):\n",
    "    pyplot.figure(figsize=(8.0,4.0))\n",
    "    pyplot.xlabel('Distance [km]')\n",
    "    pyplot.ylabel('Density [cars / km]')\n",
    "    pyplot.grid()\n",
    "    pyplot.plot(x, rho_hist[0], label='Initial')\n",
    "    pyplot.plot(x, rho_hist[n], label='Time step {}'.format(n))\n",
    "    pyplot.ylim(rho_hist[0].min() - 1.0, rho_hist[0].max() + 1.0)\n",
    "    pyplot.legend()\n",
    "\n",
    "# create a ipywidgets slider for the time levels\n",
    "nt_slider = ipywidgets.IntSlider(value=0, min=0, max=nt, step=1,\n",
    "                                description='time step')\n",
    "\n",
    "# create the ipywidgets interactive figure\n",
    "w = ipywidgets.interactive(plot_density,\n",
    "                              n=nt_slider,\n",
    "                              rho_hist=ipywidgets.fixed(rho_hist))\n",
    "\n",
    "# display the interactive figure\n",
    "display(w)"
   ]
  },
  {
   "cell_type": "code",
   "execution_count": null,
   "metadata": {},
   "outputs": [],
   "source": []
  }
 ],
 "metadata": {
  "kernelspec": {
   "display_name": "Python 3",
   "language": "python",
   "name": "python3"
  },
  "language_info": {
   "codemirror_mode": {
    "name": "ipython",
    "version": 3
   },
   "file_extension": ".py",
   "mimetype": "text/x-python",
   "name": "python",
   "nbconvert_exporter": "python",
   "pygments_lexer": "ipython3",
   "version": "3.6.2"
  }
 },
 "nbformat": 4,
 "nbformat_minor": 2
}
